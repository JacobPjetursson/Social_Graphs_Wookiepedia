{
 "cells": [
  {
   "cell_type": "code",
   "execution_count": 7,
   "metadata": {},
   "outputs": [],
   "source": [
    "import pandas as pd\n",
    "import re\n",
    "import matplotlib.pyplot as plt"
   ]
  },
  {
   "cell_type": "code",
   "execution_count": 31,
   "metadata": {},
   "outputs": [],
   "source": [
    "def fixScript(filename):\n",
    "    script = open(\"Transcripts/\"+filename+\".txt\", \"r\")\n",
    "    scriptFix = open(\"Transcripts/\"+filename+\"_fixed.txt\", \"w+\")\n",
    "    for line in script.readlines():\n",
    "        if len(line.split(\" : \")) > 1:\n",
    "            scriptFix.write(\"\\n\")\n",
    "            scriptFix.write(line)\n",
    "        else :\n",
    "            scriptFix.write(line)"
   ]
  },
  {
   "cell_type": "code",
   "execution_count": 30,
   "metadata": {},
   "outputs": [],
   "source": [
    "fixScript(\"SW_1\")"
   ]
  },
  {
   "cell_type": "code",
   "execution_count": 12,
   "metadata": {},
   "outputs": [
    {
     "data": {
      "text/plain": [
       "TITLE CARD : A long time ago in a galaxy far, far away....    A vast sea of stars serves as the backdrop for...\n",
       "Name: 0, dtype: object"
      ]
     },
     "execution_count": 12,
     "metadata": {},
     "output_type": "execute_result"
    }
   ],
   "source": []
  },
  {
   "cell_type": "code",
   "execution_count": 22,
   "metadata": {},
   "outputs": [],
   "source": [
    "def getCharacterDictFromFile(file_name):\n",
    "    with open(\"Transcripts/\"+file_name+\"_fixed.txt\", \"r\") as myfile:\n",
    "        d_string = myfile.read()    \n",
    "\n",
    "    grouped = re.findall(\"(.*): (.*?\\n.*)\", d_string)[1:]\n",
    "\n",
    "    char_dict = {}\n",
    "\n",
    "    for line in grouped:\n",
    "        if line[0] in char_dict:\n",
    "            char_dict[line[0]].append(line[1])\n",
    "        else :\n",
    "            char_dict[line[0]] = [line[1]]\n",
    "    return char_dict        \n"
   ]
  },
  {
   "cell_type": "code",
   "execution_count": 23,
   "metadata": {},
   "outputs": [],
   "source": [
    "char_dict_I = getCharacterDictFromFile(\"SW_1\")"
   ]
  },
  {
   "cell_type": "code",
   "execution_count": 24,
   "metadata": {},
   "outputs": [
    {
     "data": {
      "text/plain": [
       "['WALD ',\n",
       " 'SEBULBA : (subtitled) Chuba!! (You!!) JAR JAR ',\n",
       " 'PALAPATINE ',\n",
       " 'PILOT ',\n",
       " 'LOTT DOD ',\n",
       " 'ODY ',\n",
       " 'DOFINE ',\n",
       " 'KITSTER ',\n",
       " 'FANTA ',\n",
       " 'RIC OLIE ',\n",
       " 'GUARD DROID ',\n",
       " 'BIBBLE ',\n",
       " 'AKS MOE ',\n",
       " 'BRAVO THREE ',\n",
       " 'JAR JAR : Yo dreamen mesa hopen...,br QUI-GON ',\n",
       " 'THREEPIO ',\n",
       " 'GREEDO ',\n",
       " 'ANAKIN ',\n",
       " 'MACE WINDU ',\n",
       " 'A ',\n",
       " 'JAR JAR : Mesa Ja Ja Binksss... PADME ',\n",
       " 'OBI-WAN ',\n",
       " \"ANAKN : (Cont'd) \",\n",
       " 'BATTLE DROID CAPTAIN ',\n",
       " 'JIRA ',\n",
       " '(O.S) A ',\n",
       " 'FODE BEED ',\n",
       " 'GUNGAN LOOKOUT ',\n",
       " 'PADME ',\n",
       " 'JABBA ',\n",
       " 'ANKAIN ',\n",
       " 'RUNE ',\n",
       " \"CAPT. PANAKA : (Cont'd) Yes? CAPT. PANAKA \",\n",
       " 'OWO-1 ',\n",
       " 'P-59 ',\n",
       " 'AMIDALA ',\n",
       " 'BAIL ORGANA ',\n",
       " 'AMEE ',\n",
       " 'CAPT. PANAKA ',\n",
       " 'DARTH SIDIOUS ',\n",
       " 'PALPATINE ',\n",
       " 'TC-14 ',\n",
       " 'VALORUM ',\n",
       " 'PK-4 ',\n",
       " 'GENERAL CEEL ',\n",
       " 'FIGHTER PILOT ',\n",
       " 'SHMI ',\n",
       " 'BATTLE DROID 3B3 ',\n",
       " 'ASSEMBLY ',\n",
       " 'GUARD ',\n",
       " 'CAPT. TARPALS ',\n",
       " 'QUI-GON hurries into the shop, followed by ARTOO. QUI-GON ',\n",
       " 'YODA ',\n",
       " 'TC14 ',\n",
       " 'SEBULBA ',\n",
       " 'EG-9 ',\n",
       " 'B ',\n",
       " 'PR-4 ',\n",
       " 'QU-IG0N ',\n",
       " 'CAPTAIN ',\n",
       " 'CAPTAIN PANAKA ',\n",
       " 'NUTE ',\n",
       " 'PADME looks at him, not knowing what to say. PADME ',\n",
       " 'VENDOR ',\n",
       " 'GUI-GON ',\n",
       " 'DROID GUARD ',\n",
       " 'TEY HOW ',\n",
       " 'PANAKA ',\n",
       " 'MAS AMEDDA ',\n",
       " 'OOM-9 ',\n",
       " 'JAR JAR ',\n",
       " 'QUI-GON ',\n",
       " 'SEEK ',\n",
       " 'prize money would more than pay for the parts they need. JAR JAR ',\n",
       " 'FODE/BEED ',\n",
       " 'SABE ',\n",
       " 'RABE ',\n",
       " 'WATTO ',\n",
       " 'MAD AMEDDA ',\n",
       " 'BOSS NASS ',\n",
       " 'BRAVO TWO ',\n",
       " 'DARTH MAUL ',\n",
       " 'KI-ADI ',\n",
       " 'ANAKNI ']"
      ]
     },
     "execution_count": 24,
     "metadata": {},
     "output_type": "execute_result"
    }
   ],
   "source": [
    "char_dict_I[\"WALD\"]"
   ]
  },
  {
   "cell_type": "code",
   "execution_count": null,
   "metadata": {},
   "outputs": [],
   "source": []
  },
  {
   "cell_type": "code",
   "execution_count": null,
   "metadata": {},
   "outputs": [],
   "source": []
  },
  {
   "cell_type": "code",
   "execution_count": null,
   "metadata": {},
   "outputs": [],
   "source": []
  },
  {
   "cell_type": "code",
   "execution_count": null,
   "metadata": {},
   "outputs": [],
   "source": []
  }
 ],
 "metadata": {
  "kernelspec": {
   "display_name": "Python 2",
   "language": "python",
   "name": "python2"
  },
  "language_info": {
   "codemirror_mode": {
    "name": "ipython",
    "version": 2
   },
   "file_extension": ".py",
   "mimetype": "text/x-python",
   "name": "python",
   "nbconvert_exporter": "python",
   "pygments_lexer": "ipython2",
   "version": "2.7.15"
  }
 },
 "nbformat": 4,
 "nbformat_minor": 2
}
