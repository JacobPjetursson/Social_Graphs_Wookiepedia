{
 "cells": [
  {
   "cell_type": "markdown",
   "metadata": {},
   "source": [
    "# Fun stuff\n"
   ]
  },
  {
   "cell_type": "code",
   "execution_count": 2,
   "metadata": {},
   "outputs": [],
   "source": [
    "import urllib2\n",
    "import json\n",
    "import unicodedata\n",
    "import re"
   ]
  },
  {
   "cell_type": "code",
   "execution_count": 69,
   "metadata": {},
   "outputs": [],
   "source": [
    "def fetch_characters():\n",
    "    baseurl = \"https://en.wikipedia.org/w/api.php?\"\n",
    "    action = \"action=query\"\n",
    "    title = \"titles=List_of_Star_Wars_characters\"\n",
    "    content = \"prop=revisions\"\n",
    "    rvprop =\"rvprop=timestamp|content\"\n",
    "    dataformat = \"format=json\"\n",
    "    rvdir = \"rvdir=older\" #sort revisions from newest to oldest\n",
    "    end = \"rvend=2000-01-03T00:00:00Z\" #start of my time period\n",
    "    start = \"rvstart=2019-01-03T00:00:00Z\" #end of my time period\n",
    "    limit = \"rvlimit=1\" #consider only the first revision\n",
    "\n",
    "    query = \"%s%s&%s&%s&%s&%s&%s&%s&%s&%s\" % \\\n",
    "    (baseurl, action, title, content, rvprop, dataformat, rvdir, end, start, limit)\n",
    "    response = urllib2.urlopen(query)\n",
    "    wikisource = response.read()\n",
    "    wikijson = json.loads(wikisource)\n",
    "    wikiid = wikijson[\"query\"][\"pages\"].keys()[0]\n",
    "    text = wikijson[\"query\"][\"pages\"][wikiid][\"revisions\"][-1][\"*\"]\n",
    "    # All characters on this page match the regex below\n",
    "    regex = \"\\{\\{visible anchor\\|(.*?)\\}\\}\"\n",
    "    chars = re.findall(regex,text)\n",
    "    characters = []\n",
    "    for c in chars :\n",
    "        for s in c.split(\"|\") :\n",
    "            st = ((s.replace(\"[\", \"\")).replace(\"]\",\"\")).replace(\" \",\"_\")\n",
    "            if (st.startswith(\"Admiral_\")):\n",
    "                st = st[8:]\n",
    "            char = unicodedata.normalize('NFKD', st).encode('ascii','ignore')\n",
    "            characters.append(char)   \n",
    "    # Anakin skywalker is a special case\n",
    "    characters.append(\"Anakin_Skywalker\")\n",
    "    return set(characters)\n",
    "\n",
    "\n",
    "def fetch_wiki_article(title_):\n",
    "    baseurl = \"http://starwars.wikia.com/api.php?\"\n",
    "    action = \"action=query\"\n",
    "    title = \"titles=\" + title_ + \"&&redirects\"\n",
    "    content = \"prop=revisions\"\n",
    "    rvprop =\"rvprop=timestamp|content\"\n",
    "    dataformat = \"format=json\"\n",
    "    rvdir = \"rvdir=older\" #sort revisions from newest to oldest\n",
    "    end = \"rvend=2000-01-03T00:00:00Z\" #start of my time period\n",
    "    start = \"rvstart=2019-01-03T00:00:00Z\" #end of my time period\n",
    "    limit = \"rvlimit=1\" #consider only the first revision\n",
    "\n",
    "    query = \"%s%s&%s&%s&%s&%s&%s&%s&%s&%s\" % \\\n",
    "    (baseurl, action, title, content, rvprop, dataformat, rvdir, end, start, limit)\n",
    "    response = urllib2.urlopen(query)\n",
    "    wikisource = response.read()\n",
    "    wikijson = json.loads(wikisource)\n",
    "    wikiid = wikijson[\"query\"][\"pages\"].keys()[0]\n",
    "    text = None\n",
    "    # Below is equivalent to check if page exists\n",
    "    if \"revisions\" in wikijson[\"query\"][\"pages\"][wikiid].keys() :\n",
    "        text = wikijson[\"query\"][\"pages\"][wikiid][\"revisions\"][-1][\"*\"]\n",
    "    \n",
    "    return wikiid, text"
   ]
  },
  {
   "cell_type": "code",
   "execution_count": 70,
   "metadata": {},
   "outputs": [
    {
     "name": "stdout",
     "output_type": "stream",
     "text": [
      "DUPLICATE: Grand_Moff_Tarkin\n",
      "DUPLICATE: Grand_Moff_Wilhuff_Tarkin\n",
      "DUPLICATE: L'ulo\n",
      "DUPLICATE: Princess_Leia\n",
      "DUPLICATE: Piett\n",
      "DUPLICATE: General_Grievous\n",
      "DUPLICATE: General_Hux\n",
      "DUPLICATE: C1-10P\n",
      "DUPLICATE: FN-2199\n",
      "DUPLICATE: Grand_Admiral_Thrawn\n",
      "DUPLICATE: Ben_Kenobi\n",
      "DUPLICATE: R2-D2\n",
      "DUPLICATE: Count_Dooku\n",
      "DUPLICATE: Snoke\n",
      "DUPLICATE: Gial_Ackbar\n",
      "DUPLICATE: Doctor_Evazan\n",
      "DUPLICATE: Jabba_the_Hutt\n",
      "DUPLICATE: Jabba_Desilijic_Tiure\n",
      "DUPLICATE: Kylo_Ren\n",
      "DUPLICATE: Ozzel\n"
     ]
    }
   ],
   "source": [
    "charDict = {}\n",
    "characters = fetch_characters()\n",
    "wiki_ids = set()\n",
    "for c in characters:\n",
    "    wiki_id, article = fetch_wiki_article(c)\n",
    "    if not article:\n",
    "        continue\n",
    "    if wiki_id not in wiki_ids:\n",
    "        wiki_ids.add(wiki_id)\n",
    "        charDict[c] = article\n",
    "    else:\n",
    "        print(\"DUPLICATE: %s\" % c)\n",
    "    "
   ]
  },
  {
   "cell_type": "code",
   "execution_count": 72,
   "metadata": {},
   "outputs": [
    {
     "name": "stdout",
     "output_type": "stream",
     "text": [
      "LIST OF CHARS NOT FOUND. HAS LENGTH: 61\n",
      "['Aiolin_and_Morit_Astarte', 'Ben_Kenobi', 'Boss_Rugor_Nass', 'Breha_Antilles-Organa', 'C1-10P', 'Captain_Gregor', 'Captain_Quarsh_Panaka', 'Colonel_Kaplan', 'Commander_Cody_(CC-2224)', 'Commander_Cody_(Star_Wars)', 'Commander_Fil_(CC-3714)', 'Constable_Zuvio', 'Count_Dooku', 'Count_Dooku<br>{{small', 'Cpatain_Typho', 'Dinee_Ellberger', 'Doctor_Evazan', 'Dr._Cylo', 'FN-2199', 'Fifth_Brother_(Star_Wars)', 'Finn_(Star_Wars)', 'Garazeb_\"Zeb\"_Orrelios', 'General_Grievous', 'General_Hux', 'Gial_Ackbar', 'Grand_Admiral_Thrawn', 'Grand_Inquisitor_(Star_Wars)', 'Grand_Moff_Tarkin', 'Grand_Moff_Wilhuff_Tarkin', 'Has_Obbit', 'Inquisitors', 'Inspector_Thanoth', 'Jabba_Desilijic_Tiure', 'Jabba_the_Hutt', 'Kylo_Ren', \"L'ulo\", 'Lieutenant_Connix', 'Lieutenant_Kaydel_Ko_Connix', 'Lieutenant_Thire', 'Mister_Bones_(Star_Wars)', 'Niima_the_Hutt', 'Orrimaarko_(\"Prune_Face\")', 'Orrimarko', 'Ozzel', 'Pagetti_Rook_(\"Weequay\")', 'Petty_Officer_Thanisson', 'Piett', 'Princess_Leia', 'R2-D2', 'RA-7_(\"Death_Star_droid\")', 'Rey_(Star_Wars)', 'Rinnriyin_Di', 'Saelt-Marae_(\"Yak_Face\")', 'Sergeant_Kreel', 'Seventh_Sister_(Star_Wars)', 'Siniir_Rath_Velus', 'Snoke', 'Tallissan_\"Tallie\"_Lintra', 'Temmin_\"Snap\"_Wexley', 'Val_Beckett', 'Vice_Admiral_Amilyn_Holdo']\n"
     ]
    }
   ],
   "source": [
    "CharDictKeysSorted = sorted (charDict.keys())\n",
    "SortedCharacters = sorted (list (characters))\n",
    "# Certain characters have a different name in their wookiepage, so we correct them manually\n",
    "# Note to self: If they pop up on the wikipage, but is in the list of leftovers,\n",
    "#    it is most likely because they are duplicates\n",
    "leftovers = []\n",
    "fixed_leftovers = []\n",
    "for char in SortedCharacters:\n",
    "    if char not in charDict:\n",
    "        leftovers.append(char)\n",
    "print(\"LIST OF CHARS NOT FOUND. HAS LENGTH: %s\" % len(leftovers))\n",
    "print(leftovers)\n",
    "\n",
    "\n",
    "\n"
   ]
  },
  {
   "cell_type": "code",
   "execution_count": null,
   "metadata": {},
   "outputs": [],
   "source": []
  }
 ],
 "metadata": {
  "kernelspec": {
   "display_name": "Python 2",
   "language": "python",
   "name": "python2"
  },
  "language_info": {
   "codemirror_mode": {
    "name": "ipython",
    "version": 2
   },
   "file_extension": ".py",
   "mimetype": "text/x-python",
   "name": "python",
   "nbconvert_exporter": "python",
   "pygments_lexer": "ipython2",
   "version": "2.7.15"
  }
 },
 "nbformat": 4,
 "nbformat_minor": 2
}
