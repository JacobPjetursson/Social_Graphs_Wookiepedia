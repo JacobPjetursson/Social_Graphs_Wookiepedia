{
 "cells": [
  {
   "cell_type": "markdown",
   "metadata": {},
   "source": [
    "# Fun stuff\n"
   ]
  },
  {
   "cell_type": "code",
   "execution_count": 51,
   "metadata": {},
   "outputs": [],
   "source": [
    "import urllib2\n",
    "import json\n",
    "import unicodedata\n",
    "import re"
   ]
  },
  {
   "cell_type": "code",
   "execution_count": 77,
   "metadata": {},
   "outputs": [],
   "source": [
    "def fetch_characters():\n",
    "    baseurl = \"https://en.wikipedia.org/w/api.php?\"\n",
    "    action = \"action=query\"\n",
    "    title = \"titles=List_of_Star_Wars_characters\"\n",
    "    content = \"prop=revisions\"\n",
    "    rvprop =\"rvprop=timestamp|content\"\n",
    "    dataformat = \"format=json\"\n",
    "    rvdir = \"rvdir=older\" #sort revisions from newest to oldest\n",
    "    end = \"rvend=2000-01-03T00:00:00Z\" #start of my time period\n",
    "    start = \"rvstart=2019-01-03T00:00:00Z\" #end of my time period\n",
    "    limit = \"rvlimit=1\" #consider only the first revision\n",
    "\n",
    "    query = \"%s%s&%s&%s&%s&%s&%s&%s&%s&%s\" % \\\n",
    "    (baseurl, action, title, content, rvprop, dataformat, rvdir, end, start, limit)\n",
    "    response = urllib2.urlopen(query)\n",
    "    wikisource = response.read()\n",
    "    wikijson = json.loads(wikisource)\n",
    "    wikiid = wikijson[\"query\"][\"pages\"].keys()[0]\n",
    "    text = wikijson[\"query\"][\"pages\"][wikiid][\"revisions\"][-1][\"*\"]\n",
    "    # All characters on this page match the regex below\n",
    "    regex = \"\\{\\{visible anchor\\|(.*?)\\}\\}\"\n",
    "    chars = re.findall(regex,text)\n",
    "    characters = []\n",
    "    for c in chars :\n",
    "        for s in c.split(\"|\") :\n",
    "            st = ((s.replace(\"[\", \"\")).replace(\"]\",\"\")).replace(\" \",\"_\")\n",
    "            # prefix/suffix fixes\n",
    "            if (st.startswith(\"Admiral_\")):\n",
    "                st = st[8:]\n",
    "            st = st.replace(\"_(Star_Wars)\", \"\")\n",
    "            #char = unicodedata.normalize('NFKD', st).encode('ascii','ignore')\n",
    "            characters.append(st)   \n",
    "    # Anakin skywalker is a special case\n",
    "    characters.append(\"Anakin_Skywalker\")\n",
    "    return set(characters)\n",
    "\n",
    "\n",
    "def fetch_wiki_article(title_):\n",
    "    baseurl = \"http://starwars.wikia.com/api.php?\"\n",
    "    action = \"action=query\"\n",
    "    title = \"titles=\" + title_ + \"&&redirects\" # Redirects are gods gift to man\n",
    "    title = title.encode(\"utf-8\") # This is our fix for unicode problems\n",
    "    content = \"prop=revisions\"\n",
    "    rvprop =\"rvprop=timestamp|content\"\n",
    "    dataformat = \"format=json\"\n",
    "    rvdir = \"rvdir=older\" #sort revisions from newest to oldest\n",
    "    end = \"rvend=2000-01-03T00:00:00Z\" #start of my time period\n",
    "    start = \"rvstart=2019-01-03T00:00:00Z\" #end of my time period\n",
    "    limit = \"rvlimit=1\" #consider only the first revision\n",
    "\n",
    "    query = \"%s%s&%s&%s&%s&%s&%s&%s&%s&%s\" % \\\n",
    "    (baseurl, action, title, content, rvprop, dataformat, rvdir, end, start, limit)\n",
    "    response = urllib2.urlopen(query)\n",
    "    wikisource = response.read()\n",
    "    wikijson = json.loads(wikisource)\n",
    "    wikiid = wikijson[\"query\"][\"pages\"].keys()[0]\n",
    "    title = wikijson[\"query\"][\"pages\"][wikiid][\"title\"]\n",
    "    text = None\n",
    "    # Below is equivalent to check if page exists\n",
    "    if wikiid != \"-1\" :\n",
    "        text = wikijson[\"query\"][\"pages\"][wikiid][\"revisions\"][-1][\"*\"]\n",
    "    # Legends is the comic books of starwars, which is sometimes redirected to.\n",
    "    # we don't want the characters from that\n",
    "    if title.endswith(\"/Legends\"): \n",
    "        title = title.replace(\"/Legends\", \"\").replace(\" \", \"_\")\n",
    "        wikiid, text, title =  fetch_wiki_article(title)\n",
    "    return wikiid, text, title\n",
    "\n",
    "def addToDict(character):\n",
    "    wiki_id, article, wiki_title = fetch_wiki_article(character)\n",
    "    if wiki_id == \"-1\":\n",
    "        return False\n",
    "    if wiki_id not in wiki_ids:\n",
    "        wiki_ids.add(wiki_id)\n",
    "        # Add the wookiepedia title as key and not the character name from wiki\n",
    "        charDict[wiki_title] = article\n",
    "    return True\n",
    "    "
   ]
  },
  {
   "cell_type": "code",
   "execution_count": 78,
   "metadata": {},
   "outputs": [],
   "source": [
    "charDict = {}\n",
    "characters = fetch_characters()\n",
    "wiki_ids = set()\n",
    "leftovers = []\n",
    "for c in characters:\n",
    "    if not addToDict(c):\n",
    "        leftovers.append(c)"
   ]
  },
  {
   "cell_type": "code",
   "execution_count": 79,
   "metadata": {},
   "outputs": [
    {
     "name": "stdout",
     "output_type": "stream",
     "text": [
      "LIST OF CHARACTERS NOT FOUND. HAS LENGTH: 18\n",
      "[u'Inquisitors', u'Tallissan_\"Tallie\"_Lintra', u'Aiolin_and_Morit_Astarte', u'Commander_Cody_(CC-2224)', u'Garazeb_\"Zeb\"_Orrelios', u'Lieutenant_Kaydel_Ko_Connix', u'Count_Dooku<br>{{small', u'Pagetti_Rook_(\"Weequay\")', u'Orrimaarko_(\"Prune_Face\")', u'Has_Obbit', u'Rinnriyin_Di', u'Commander_Fil_(CC-3714)', u'Lieutenant_Connix', u'Orrimarko', u'Temmin_\"Snap\"_Wexley', u'RA-7_(\"Death_Star_droid\")', u'Breha_Antilles-Organa', u'Saelt-Marae_(\"Yak_Face\")']\n"
     ]
    }
   ],
   "source": [
    "# Cleaning up leftover characters\n",
    "\n",
    "# Try right side of all leftover characters separated by \"_\", since a lot of them starts with some stupid title\n",
    "fixed_leftovers = []\n",
    "for character in leftovers:\n",
    "    char = character.split(\"_\")[-1]\n",
    "    if not addToDict(char):\n",
    "        fixed_leftovers.append(character)\n",
    "\n",
    "print(\"LIST OF CHARACTERS NOT FOUND. HAS LENGTH: %s\" % len(fixed_leftovers))\n",
    "print(fixed_leftovers)\n",
    "manual_fixes = [\"Tallissan_Lintra\", \"Aiolin_Astarte\", \"Morit_Astarte\", \"CC-2224\", \n",
    "               \"Garazeb_Orrelios\", \"Kaydel_Ko_Connix\", \"Dooku\", \"Weequay\", \"Orrimaarko\", \"Rinnrivin_Di\",\n",
    "               \"CC-3714\", \"Temmin_Wexley\", \"RA-7_protocol_droid\", \"Breha_Organa\", \"Saelt-Marae\"]\n",
    "for character in manual_fixes:\n",
    "    addToDict(character)"
   ]
  },
  {
   "cell_type": "code",
   "execution_count": 80,
   "metadata": {},
   "outputs": [
    {
     "name": "stdout",
     "output_type": "stream",
     "text": [
      "CHARACTERS IN DICT: (419):\n",
      " [u'Moralo Eval', u'Thanoth', u'Sly Moore', u'Luminara Unduli', u'Ezra Bridger', u'Kaplan', u'CC-1993', u'Dooku', u\"C'ai Threnalli\", u'Cassian Jeron Andor', u'Cassio Tagge', u'Firmus Piett', u'Evaan Verlaine', u'4-LOM', u'Vober Dand', u'Bargwill Tomder', u'Paige Tico', u'Plo Koon', u'Jar Jar Binks', u'Rogue Squadron', u'Tobias Beckett', u'Sim Aloo', u'Bail Prestor Organa', u'Borvo', u'Cin Drallig', u'Quarrie', u'Kreel', u'Rex', u'Rey', u'Rinnrivin Di', u'Tiaan Jerjerrod', u'Max Rebo', u'Sarco Plank', u'Aayla Secura', u'Wollivan', u'Qui-Gon Jinn', u'Ell\\xe9', u'Padm\\xe9 Amidala', u'Grievous', u'Embo', u\"Mitth'raw'nuruodo\", u'C-3PO', u'Jabba Desilijic Tiure', u'Mace Windu', u'Tulon Voidgazer', u'Unkar Plutt', u'Zuckuss', u'CC-1010', u'Jubnuk', u'Jyn Erso', u'Mercurial Swift', u'Apailana', u'Teedo', u'Eeth Koth', u'Zutton/Canon', u'Cut Lawquane', u'Maz Kanata', u'Bo-Katan Kryze', u\"Qi'ra\", u'Even Piell', u'Sinjir Rath Velus', u'San Hill', u\"A'Koba\", u'Ponda Baba', u'Thanisson', u'Cham Syndulla', u'Poe Dameron', u'Tessek', u'TC-14', u'Watto', u'FN-2003', u'Notluwiski Papanoida', u'Zam Wesell', u'99', u'Kendal Ozzel', u'Katuunko', u'Eirta\\xe9', u'Mod Terrik', u'Lorth Needa', u'Rush Clovis', u'Tarfful', u'IG-88', u'Wag Too', u'2-1B', u'Che Amanwe Papanoida', u'RA-7 protocol droid', u'Lama Su', u'Slowen Lo', u'Temiri Blagg', u'CT-782', u'Wes Janson', u'Klaatu', u'Fodesinbeed Annodue', u'Karina the Great', u'Ketsu Onyo', u'Hera Syndulla', u'Star Wars: Doctor Aphra', u'Xamuel Lennox', u'Bren Derlin', u'Wicket W. Warrick', u'Gregar Typho', u'Delian Mors', u'Leia Organa', u'Lando Calrissian', u'Grand Inquisitor', u'Teemto Pagalies', u'Hammerhead', u'Jom Barell', u'Bala-Tik', u'Kanan Jarrus', u'Quinlan Vos', u'Tasu Leech', u'Rio Durant', u'CC-3714', u'Beru Whitesun Lars', u'Bendu', u'AZI-345211896246498721347', u'Klik-Klak', u'Del Meeko', u'Sebulba', u'Nahdonnis Praji', u'Shu Mai', u'Jan Dodonna', u'Chirpa', u'Joclad Danva', u'Mas Amedda', u'Teebo', u'Romba', u'Gallius Rax', u\"Figrin D'an\", u'Mina Bonteri', u'Tup', u'Omi', u'CC-2224', u'Neeyutnee', u'Quarsh Panaka', u'Chewbacca', u'Jocasta Nu', u'Dryden Vos', u'Berch Teller', u'L3-37', u'Echuu Shen-Jon', u'Black Krrsantan', u'Daultay Dofine', u'Yoda', u'Carlist Rieekan', u'Wedge Antilles', u'Amee', u'AP-5', u'Aurra Sing', u'Warok', u'Sidon Ithano', u'WAC-47', u'Bossk', u'Sixth Brother', u'Karbin', u'Agen Kolar', u'Lanever Villecham', u'CT-00-2010', u'Pharl McQuarrie', u'Pooja Naberrie', u'Ratts Tyerell', u'Thane Kyrell', u'Cornelius Evazan', u'Barada', u'Ima-Gun Di', u'Mars Guo', u'Garrick Versio', u'Aiolin Astarte', u'Shmi Skywalker Lars', u'Lyra Erso', u'Sio Bibble', u'Sy Snootles', u'GNK-series power droid', u'Barriss Offee', u'Gideon Hask', u'Orn Free Taa', u'Lott Dod', u'Fulcrum', u'DJ', u'Greeata Jendowanian', u'Ben Quadinaros', u'Seventh Sister', u'Arvel Crynyd', u'Maximilian Veers', u'Clegg Holdfast', u'Oola', u'BB-8', u'PZ-4CO', u'Coleman Kcaj', u'Nahdar Vebb', u'Cad Bane', u'Luke Skywalker', u'Dodd Rancit', u'Morley', u'U.O. Statura', u'Yaddle', u'Cylo', u'Quiggold', u'Jobal Naberrie', u'Lux Bonteri', u'Jacen Syndulla', u'Jaxxon', u'8D8', u'C1-10P', u'Mawhonic', u'Dapp', u'Miraj Scintel', u'Janus Greejatus', u'Eli Vanto', u'Paploo', u'Weequay', u'FN-2199', u'Rukh', u'Iden Versio', u'Dud Bolt', u'Anakin Skywalker', u'Jira', u'Rappertunie', u'Nute Gunray', u'Jango Fett', u'Moden Canady', u'Ruwee Naberrie', u'Saelt-Marae', u'Cord\\xe9', u'R2-D2', u'Boba Fett', u'Jamillia', u'Quay Tolsite', u'Oro Dassyne', u'Mama', u'The Smuggler', u'BT-1', u'Ziro Desilijic Tiure/Canon', u'R4-P17', u'Raymus Antilles', u'Snoke', u'Poggle the Lesser', u'Joh Yowza', u'Tee Watt Kaa', u'Faro Argyus', u'Dine\\xe9 Ellberger', u'Alton Kastle', u'Lyn Me', u'Almec', u'Lok Durd', u'Nien Nunb', u'Ki-Adi-Mundi', u'Tion Medon', u'Momaw Nadon', u'Garven Dreis', u'Rotta', u'Dexter Jettster', u'Chirrut \\xcemwe', u'Baze Malbus', u'BB-9E', u'EV-9D9', u'Roos Tarpals', u'Kitster Banai', u'Riley', u'Ciena Ree', u'GA-97', u'Shara Bey', u'Dogma', u'Crix Madine', u'OOM-9', u'Temmin Wexley', u'Nuvo Vindi', u'Caluan Ematt', u'Morit Astarte', u'FN-1824', u'Feral', u'Jas Emari', u'Malakili', u'Sab\\xe9', u'Dorm\\xe9', u'Darth Bane', u'Bazine Netal', u'Rako Hardeen', u'Alexsandr Kallus', u'Jeremoch Colton', u'Garazeb Orrelios', u'Senator Organa', u'Adi Gallia', u'Gregor', u'Sach\\xe9', u'Huyang', u'Depa Billaba', u'Lor San Tekka', u'Terrinald Screed', u'Letta Turmond', u'Rune Haako', u'Ody Mandrell', u'Rose Tico', u'Droopy McCool', u'Greer Sonnel', u'Sarkli', u'Chi Eekway Papanoida', u'Ric Oli\\xe9', u'CC-2237', u'Mister Bones', u'Sifo-Dyas', u'Mon Mothma', u'Shaak Ti', u'Conan Antonio Motti', u'Reeve Panzoro', u'Gardulla Besadii the Elder', u'Pong Krell', u'Lumat', u'Lobot', u'Grummgar', u'Asajj Ventress', u'Gungi', u'Oppo Rancisis', u'Harter Kalonia', u'Rab\\xe9', u'Taun We', u'Meena Tills', u'Onaconda Farr', u'Hutt', u'Finis Valorum', u'Zev Senesca', u'CC-3636', u'Wullf Yularen', u'Gavyn Sykes', u'Phasma', u'Bail Organa', u'Saesee Tiin', u'Longo Two-Guns', u'Amilyn Holdo', u'ME-8D9', u'CC-4477', u'Ransolm Casterfo', u'Moradmin Bast', u'Kes Dameron', u'Breha Organa', u'Finn', u'Obi-Wan Kenobi', u'Han Solo', u'Orrimaarko', u'Savage Opress', u'Sabine Wren', u'CC-1004', u'Armitage Hux', u'CC-5052', u'Gizor Dellso', u'Biggs Darklighter', u'Bodhi Rook', u'R2-KT', u'Gial Ackbar', u'Casca Panzoro', u'Zuvio', u'K-2SO', u'Eighth Brother', u'Strono Tuggs', u'Coleman Trebor', u'Bobbajo', u'Osi Sobeck', u'R5-D4', u'Bib Fortuna', u'Trench', u'Jek Tono Porkins', u'Maul', u'Brendol Hux', u'Kaydel Ko Connix', u'Aks Moe', u'Logray', u'Ahsoka Tano', u'Eneb Ray', u'Owen Lars', u'U9-C4', u'Velus', u'Dengar', u'Korr Sella', u'Jova Tarkin', u'0-0-0', u'Talzin', u'Hondo Ohnaka', u'Riff Tamson', u'Wat Tambor', u\"Larma D'Acy\", u'Greedo', u'Ryoo Naberrie', u'Joph Seastriker', u'Pablo-Jill', u'Ree-Yees', u'Po Nudo', u'Ello Asty', u'Wald', u'Wuher', u'Enfys Nest', u'R3-S6', u\"L'ulo L'ampar\", u'Sola Naberrie', u'Derek Klivian', u'Tallissan Lintra', u'Tey How', u'Norra Wexley', u'Galen Walton Erso', u'Satine Kryze', u'Cliegg Lars', u'Raddus', u'Kit Fisto', u'CT-5555', u'Ebe E. Endocott', u'Kylo Ren', u'Yarael Poof', u'Sana Starros', u'Fifth Brother', u'Wilhuff Tarkin', u'Salacious B. Crumb', u\"Emperor's Royal Guard\", u\"Yarna d'al' Gargan\", u'FX-7', u'Conder Kyl', u'Sora Bulq', u'Vanden Willard', u'Rugor Nass', u'Dak Ralter']\n"
     ]
    }
   ],
   "source": [
    "print(\"CHARACTERS IN DICT: (%s):\\n %s\" % (len(charDict.keys()), charDict.keys()))"
   ]
  }
 ],
 "metadata": {
  "kernelspec": {
   "display_name": "Python 2",
   "language": "python",
   "name": "python2"
  },
  "language_info": {
   "codemirror_mode": {
    "name": "ipython",
    "version": 2
   },
   "file_extension": ".py",
   "mimetype": "text/x-python",
   "name": "python",
   "nbconvert_exporter": "python",
   "pygments_lexer": "ipython2",
   "version": "2.7.15"
  }
 },
 "nbformat": 4,
 "nbformat_minor": 2
}
